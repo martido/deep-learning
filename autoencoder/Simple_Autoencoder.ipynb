{
 "cells": [
  {
   "cell_type": "markdown",
   "metadata": {},
   "source": [
    "# A Simple Autoencoder\n",
    "\n",
    "We'll start off by building a simple autoencoder to compress the MNIST dataset. With autoencoders, we pass input data through an encoder that makes a compressed representation of the input. Then, this representation is passed through a decoder to reconstruct the input data. Generally the encoder and decoder will be built with neural networks, then trained on example data.\n",
    "\n",
    "![Autoencoder](assets/autoencoder_1.png)\n",
    "\n",
    "In this notebook, we'll be build a simple network architecture for the encoder and decoder. Let's get started by importing our libraries and getting the dataset."
   ]
  },
  {
   "cell_type": "code",
   "execution_count": 1,
   "metadata": {
    "collapsed": true
   },
   "outputs": [],
   "source": [
    "%matplotlib inline\n",
    "\n",
    "import numpy as np\n",
    "import tensorflow as tf\n",
    "import matplotlib.pyplot as plt"
   ]
  },
  {
   "cell_type": "code",
   "execution_count": 2,
   "metadata": {},
   "outputs": [
    {
     "name": "stdout",
     "output_type": "stream",
     "text": [
      "Extracting MNIST_data/train-images-idx3-ubyte.gz\n",
      "Extracting MNIST_data/train-labels-idx1-ubyte.gz\n",
      "Extracting MNIST_data/t10k-images-idx3-ubyte.gz\n",
      "Extracting MNIST_data/t10k-labels-idx1-ubyte.gz\n"
     ]
    }
   ],
   "source": [
    "from tensorflow.examples.tutorials.mnist import input_data\n",
    "mnist = input_data.read_data_sets('MNIST_data', validation_size=0)"
   ]
  },
  {
   "cell_type": "markdown",
   "metadata": {},
   "source": [
    "Below I'm plotting an example image from the MNIST dataset. These are 28x28 grayscale images of handwritten digits."
   ]
  },
  {
   "cell_type": "code",
   "execution_count": 3,
   "metadata": {},
   "outputs": [
    {
     "data": {
      "text/plain": [
       "<matplotlib.image.AxesImage at 0x12a3cf198>"
      ]
     },
     "execution_count": 3,
     "metadata": {},
     "output_type": "execute_result"
    },
    {
     "data": {
      "image/png": "[encoded data removed]",
      "text/plain": [
       "<matplotlib.figure.Figure at 0x11d118a20>"
      ]
     },
     "metadata": {},
     "output_type": "display_data"
    }
   ],
   "source": [
    "img = mnist.train.images[2]\n",
    "plt.imshow(img.reshape((28, 28)), cmap='Greys_r')"
   ]
  },
  {
   "cell_type": "markdown",
   "metadata": {},
   "source": [
    "We'll train an autoencoder with these images by flattening them into 784 length vectors. The images from this dataset are already normalized such that the values are between 0 and 1. Let's start by building basically the simplest autoencoder with a **single ReLU hidden layer**. This layer will be used as the compressed representation. Then, the encoder is the input layer and the hidden layer. The decoder is the hidden layer and the output layer. Since the images are normalized between 0 and 1, we need to use a **sigmoid activation on the output layer** to get values matching the input.\n",
    "\n",
    "![Autoencoder architecture](assets/simple_autoencoder.png)\n",
    "\n",
    "\n",
    "> **Exercise:** Build the graph for the autoencoder in the cell below. The input images will be flattened into 784 length vectors. The targets are the same as the inputs. And there should be one hidden layer with a ReLU activation and an output layer with a sigmoid activation. Feel free to use TensorFlow's higher level API, `tf.layers`. For instance, you would use [`tf.layers.dense(inputs, units, activation=tf.nn.relu)`](https://www.tensorflow.org/api_docs/python/tf/layers/dense) to create a fully connected layer with a ReLU activation. The loss should be calculated with the cross-entropy loss, there is a convenient TensorFlow function for this `tf.nn.sigmoid_cross_entropy_with_logits` ([documentation](https://www.tensorflow.org/api_docs/python/tf/nn/sigmoid_cross_entropy_with_logits)). You should note that `tf.nn.sigmoid_cross_entropy_with_logits` takes the logits, but to get the reconstructed images you'll need to pass the logits through the sigmoid function."
   ]
  },
  {
   "cell_type": "code",
   "execution_count": 4,
   "metadata": {
    "collapsed": true
   },
   "outputs": [],
   "source": [
    "# Size of the encoding layer (the hidden layer)\n",
    "# We compress the 784 input values down to 32 values.\n",
    "encoding_dim = 32 # feel free to change this value\n",
    "\n",
    "image_size = 784\n",
    "\n",
    "# Input and target placeholders\n",
    "inputs_ = tf.placeholder(tf.float32, (None, image_size), name=\"inputs\")\n",
    "targets_ = tf.placeholder(tf.float32, (None, image_size), name=\"targets\")\n",
    "\n",
    "# Output of hidden layer, single fully connected layer here with ReLU activation\n",
    "encoded = tf.layers.dense(inputs_, encoding_dim, activation=tf.nn.relu)\n",
    "\n",
    "# Output layer logits, fully connected layer with no activation\n",
    "logits = tf.layers.dense(encoded, image_size, activation=None)\n",
    "# Sigmoid output from logits\n",
    "decoded = tf.nn.sigmoid(logits, name=\"output\")\n",
    "\n",
    "# Sigmoid cross-entropy loss\n",
    "loss = tf.nn.sigmoid_cross_entropy_with_logits(labels=targets_, logits=logits)\n",
    "# Mean of the loss\n",
    "cost = tf.reduce_mean(loss)\n",
    "\n",
    "# Adam optimizer\n",
    "opt = tf.train.AdamOptimizer().minimize(cost)"
   ]
  },
  {
   "cell_type": "markdown",
   "metadata": {},
   "source": [
    "## Training"
   ]
  },
  {
   "cell_type": "code",
   "execution_count": 5,
   "metadata": {
    "collapsed": true
   },
   "outputs": [],
   "source": [
    "# Create the session\n",
    "sess = tf.Session()"
   ]
  },
  {
   "cell_type": "markdown",
   "metadata": {},
   "source": [
    "Here I'll write a bit of code to train the network. I'm not too interested in validation here, so I'll just monitor the training loss. \n",
    "\n",
    "Calling `mnist.train.next_batch(batch_size)` will return a tuple of `(images, labels)`. We're not concerned with the labels here, we just need the images. Otherwise this is pretty straightfoward training with TensorFlow. We initialize the variables with `sess.run(tf.global_variables_initializer())`. Then, run the optimizer and get the loss with `batch_cost, _ = sess.run([cost, opt], feed_dict=feed)`."
   ]
  },
  {
   "cell_type": "code",
   "execution_count": 6,
   "metadata": {},
   "outputs": [
    {
     "name": "stdout",
     "output_type": "stream",
     "text": [
      "Epoch: 1/20... Training loss: 0.6938\n",
      "Epoch: 1/20... Training loss: 0.2898\n",
      "Epoch: 1/20... Training loss: 0.2541\n",
      "Epoch: 1/20... Training loss: 0.2273\n",
      "Epoch: 1/20... Training loss: 0.2088\n",
      "Epoch: 1/20... Training loss: 0.1941\n",
      "Epoch: 2/20... Training loss: 0.1747\n",
      "Epoch: 2/20... Training loss: 0.1708\n",
      "Epoch: 2/20... Training loss: 0.1645\n",
      "Epoch: 2/20... Training loss: 0.1576\n",
      "Epoch: 2/20... Training loss: 0.1524\n",
      "Epoch: 2/20... Training loss: 0.1459\n",
      "Epoch: 3/20... Training loss: 0.1491\n",
      "Epoch: 3/20... Training loss: 0.1389\n",
      "Epoch: 3/20... Training loss: 0.1377\n",
      "Epoch: 3/20... Training loss: 0.1372\n",
      "Epoch: 3/20... Training loss: 0.1322\n",
      "Epoch: 3/20... Training loss: 0.1278\n",
      "Epoch: 4/20... Training loss: 0.1295\n",
      "Epoch: 4/20... Training loss: 0.1241\n",
      "Epoch: 4/20... Training loss: 0.1235\n",
      "Epoch: 4/20... Training loss: 0.1177\n",
      "Epoch: 4/20... Training loss: 0.1168\n",
      "Epoch: 4/20... Training loss: 0.1102\n",
      "Epoch: 5/20... Training loss: 0.1158\n",
      "Epoch: 5/20... Training loss: 0.1155\n",
      "Epoch: 5/20... Training loss: 0.1154\n",
      "Epoch: 5/20... Training loss: 0.1081\n",
      "Epoch: 5/20... Training loss: 0.1140\n",
      "Epoch: 5/20... Training loss: 0.1110\n",
      "Epoch: 6/20... Training loss: 0.1050\n",
      "Epoch: 6/20... Training loss: 0.1050\n",
      "Epoch: 6/20... Training loss: 0.1095\n",
      "Epoch: 6/20... Training loss: 0.1048\n",
      "Epoch: 6/20... Training loss: 0.1058\n",
      "Epoch: 6/20... Training loss: 0.1044\n",
      "Epoch: 7/20... Training loss: 0.1001\n",
      "Epoch: 7/20... Training loss: 0.1034\n",
      "Epoch: 7/20... Training loss: 0.0997\n",
      "Epoch: 7/20... Training loss: 0.1040\n",
      "Epoch: 7/20... Training loss: 0.1010\n",
      "Epoch: 7/20... Training loss: 0.1016\n",
      "Epoch: 8/20... Training loss: 0.0985\n",
      "Epoch: 8/20... Training loss: 0.0965\n",
      "Epoch: 8/20... Training loss: 0.0911\n",
      "Epoch: 8/20... Training loss: 0.0957\n",
      "Epoch: 8/20... Training loss: 0.0977\n",
      "Epoch: 8/20... Training loss: 0.0972\n",
      "Epoch: 9/20... Training loss: 0.0956\n",
      "Epoch: 9/20... Training loss: 0.0943\n",
      "Epoch: 9/20... Training loss: 0.0975\n",
      "Epoch: 9/20... Training loss: 0.0968\n",
      "Epoch: 9/20... Training loss: 0.0990\n",
      "Epoch: 9/20... Training loss: 0.0979\n",
      "Epoch: 10/20... Training loss: 0.0963\n",
      "Epoch: 10/20... Training loss: 0.0966\n",
      "Epoch: 10/20... Training loss: 0.0918\n",
      "Epoch: 10/20... Training loss: 0.0976\n",
      "Epoch: 10/20... Training loss: 0.0996\n",
      "Epoch: 10/20... Training loss: 0.0958\n",
      "Epoch: 11/20... Training loss: 0.0919\n",
      "Epoch: 11/20... Training loss: 0.0920\n",
      "Epoch: 11/20... Training loss: 0.0929\n",
      "Epoch: 11/20... Training loss: 0.0974\n",
      "Epoch: 11/20... Training loss: 0.0961\n",
      "Epoch: 11/20... Training loss: 0.0921\n",
      "Epoch: 12/20... Training loss: 0.0937\n",
      "Epoch: 12/20... Training loss: 0.0962\n",
      "Epoch: 12/20... Training loss: 0.0970\n",
      "Epoch: 12/20... Training loss: 0.0940\n",
      "Epoch: 12/20... Training loss: 0.0927\n",
      "Epoch: 12/20... Training loss: 0.0969\n",
      "Epoch: 13/20... Training loss: 0.0932\n",
      "Epoch: 13/20... Training loss: 0.0952\n",
      "Epoch: 13/20... Training loss: 0.0944\n",
      "Epoch: 13/20... Training loss: 0.0917\n",
      "Epoch: 13/20... Training loss: 0.0918\n",
      "Epoch: 13/20... Training loss: 0.0936\n",
      "Epoch: 14/20... Training loss: 0.0939\n",
      "Epoch: 14/20... Training loss: 0.0882\n",
      "Epoch: 14/20... Training loss: 0.0926\n",
      "Epoch: 14/20... Training loss: 0.0935\n",
      "Epoch: 14/20... Training loss: 0.0968\n",
      "Epoch: 14/20... Training loss: 0.0929\n",
      "Epoch: 15/20... Training loss: 0.0969\n",
      "Epoch: 15/20... Training loss: 0.0930\n",
      "Epoch: 15/20... Training loss: 0.0948\n",
      "Epoch: 15/20... Training loss: 0.0923\n",
      "Epoch: 15/20... Training loss: 0.0906\n",
      "Epoch: 15/20... Training loss: 0.0911\n",
      "Epoch: 16/20... Training loss: 0.0901\n",
      "Epoch: 16/20... Training loss: 0.0942\n",
      "Epoch: 16/20... Training loss: 0.0944\n",
      "Epoch: 16/20... Training loss: 0.0933\n",
      "Epoch: 16/20... Training loss: 0.0898\n",
      "Epoch: 16/20... Training loss: 0.0950\n",
      "Epoch: 17/20... Training loss: 0.0939\n",
      "Epoch: 17/20... Training loss: 0.0940\n",
      "Epoch: 17/20... Training loss: 0.0915\n",
      "Epoch: 17/20... Training loss: 0.0963\n",
      "Epoch: 17/20... Training loss: 0.0917\n",
      "Epoch: 17/20... Training loss: 0.0947\n",
      "Epoch: 18/20... Training loss: 0.0924\n",
      "Epoch: 18/20... Training loss: 0.0939\n",
      "Epoch: 18/20... Training loss: 0.0933\n",
      "Epoch: 18/20... Training loss: 0.0960\n",
      "Epoch: 18/20... Training loss: 0.0924\n",
      "Epoch: 18/20... Training loss: 0.0920\n",
      "Epoch: 19/20... Training loss: 0.0917\n",
      "Epoch: 19/20... Training loss: 0.0983\n",
      "Epoch: 19/20... Training loss: 0.0923\n",
      "Epoch: 19/20... Training loss: 0.0927\n",
      "Epoch: 19/20... Training loss: 0.0967\n",
      "Epoch: 19/20... Training loss: 0.0973\n",
      "Epoch: 20/20... Training loss: 0.0918\n",
      "Epoch: 20/20... Training loss: 0.0914\n",
      "Epoch: 20/20... Training loss: 0.0912\n",
      "Epoch: 20/20... Training loss: 0.0919\n",
      "Epoch: 20/20... Training loss: 0.0936\n",
      "Epoch: 20/20... Training loss: 0.0962\n"
     ]
    }
   ],
   "source": [
    "epochs = 20\n",
    "batch_size = 200\n",
    "sess.run(tf.global_variables_initializer())\n",
    "for e in range(epochs):\n",
    "    for ii in range(mnist.train.num_examples//batch_size):\n",
    "        batch = mnist.train.next_batch(batch_size)\n",
    "        feed = {inputs_: batch[0], targets_: batch[0]}\n",
    "        batch_cost, _ = sess.run([cost, opt], feed_dict=feed)\n",
    "\n",
    "        if ii % 50 == 0:\n",
    "            print(\"Epoch: {}/{}...\".format(e+1, epochs),\n",
    "                  \"Training loss: {:.4f}\".format(batch_cost))"
   ]
  },
  {
   "cell_type": "markdown",
   "metadata": {},
   "source": [
    "## Checking out the results\n",
    "\n",
    "Below I've plotted some of the test images along with their reconstructions. For the most part these look pretty good except for some blurriness in some parts."
   ]
  },
  {
   "cell_type": "code",
   "execution_count": 7,
   "metadata": {},
   "outputs": [
    {
     "data": {
      "image/png": "[encoded data removed]",
      "text/plain": [
       "<matplotlib.figure.Figure at 0x12a47dd30>"
      ]
     },
     "metadata": {},
     "output_type": "display_data"
    }
   ],
   "source": [
    "fig, axes = plt.subplots(nrows=2, ncols=10, sharex=True, sharey=True, figsize=(20,4))\n",
    "in_imgs = mnist.test.images[:10]\n",
    "reconstructed, compressed = sess.run([decoded, encoded], feed_dict={inputs_: in_imgs})\n",
    "\n",
    "for images, row in zip([in_imgs, reconstructed], axes):\n",
    "    for img, ax in zip(images, row):\n",
    "        ax.imshow(img.reshape((28, 28)), cmap='Greys_r')\n",
    "        ax.get_xaxis().set_visible(False)\n",
    "        ax.get_yaxis().set_visible(False)\n",
    "\n",
    "fig.tight_layout(pad=0.1)"
   ]
  },
  {
   "cell_type": "code",
   "execution_count": 8,
   "metadata": {
    "collapsed": true
   },
   "outputs": [],
   "source": [
    "sess.close()"
   ]
  },
  {
   "cell_type": "markdown",
   "metadata": {
    "collapsed": true
   },
   "source": [
    "## Up Next\n",
    "\n",
    "We're dealing with images here, so we can (usually) get better performance using convolution layers. So, next we'll build a better autoencoder with convolutional layers.\n",
    "\n",
    "In practice, autoencoders aren't actually better at compression compared to typical methods like JPEGs and MP3s. But, they are being used for noise reduction, which you'll also build."
   ]
  }
 ],
 "metadata": {
  "kernelspec": {
   "display_name": "Python 3",
   "language": "python",
   "name": "python3"
  },
  "language_info": {
   "codemirror_mode": {
    "name": "ipython",
    "version": 3
   },
   "file_extension": ".py",
   "mimetype": "text/x-python",
   "name": "python",
   "nbconvert_exporter": "python",
   "pygments_lexer": "ipython3",
   "version": "3.6.1"
  }
 },
 "nbformat": 4,
 "nbformat_minor": 2
}
